{
 "cells": [
  {
   "cell_type": "markdown",
   "id": "261c449f-c2c2-4799-8505-cf04c08010b1",
   "metadata": {},
   "source": [
    "# Mapping Cell Names to the Cell Ontology\n",
    "\n",
    "Cell Ontology (CL) is an ontology designed to classify and describe cell types across different organisms. It serves as a resource for model organism and bioinformatics databases. The ontology covers a broad range of cell types in animal cells, with over 2700 cell type classes, and provides high-level cell type classes as mapping points for cell type classes in ontologies representing other species, such as the Plant Ontology or Drosophila Anatomy Ontology. Integration with other ontologies such as Uberon, GO, CHEBI, PR, and PATO enables linking cell types to anatomical structures, biological processes, and other relevant concepts.\n",
    "\n",
    "Here we provide several functions that convert the cell names you annotated to their corresponding Cell Ontology names and IDs.\n",
    "\n",
    "All analysis are performed with `omicverse.single.CellOntologyMapper` class."
   ]
  },
  {
   "cell_type": "code",
   "execution_count": 1,
   "id": "3013fd06-8595-458a-b603-a6ebaa79dcd5",
   "metadata": {},
   "outputs": [
    {
     "name": "stdout",
     "output_type": "stream",
     "text": [
      "🔬 Starting plot initialization...\n",
      "🧬 Detecting CUDA devices…\n",
      "✅ [GPU 0] NVIDIA H100 80GB HBM3\n",
      "    • Total memory: 79.1 GB\n",
      "    • Compute capability: 9.0\n",
      "\n",
      "   ____            _     _    __                  \n",
      "  / __ \\____ ___  (_)___| |  / /__  _____________ \n",
      " / / / / __ `__ \\/ / ___/ | / / _ \\/ ___/ ___/ _ \\ \n",
      "/ /_/ / / / / / / / /__ | |/ /  __/ /  (__  )  __/ \n",
      "\\____/_/ /_/ /_/_/\\___/ |___/\\___/_/  /____/\\___/                                              \n",
      "\n",
      "🔖 Version: 1.7.1rc1   📚 Tutorials: https://omicverse.readthedocs.io/\n",
      "✅ plot_set complete.\n",
      "\n"
     ]
    }
   ],
   "source": [
    "import scanpy as sc\n",
    "#import pertpy as pt\n",
    "import omicverse as ov\n",
    "ov.plot_set()\n",
    "\n",
    "%load_ext autoreload\n",
    "%autoreload 2"
   ]
  },
  {
   "cell_type": "markdown",
   "id": "82e46b84-e8d4-4925-9cbf-5c2f2930f674",
   "metadata": {},
   "source": [
    "## Prepared datasets\n",
    "\n",
    "Before you convert you cell names, you need to annotate at first. Here, we used haber_2017_regions dataset from `pertpy` to test."
   ]
  },
  {
   "cell_type": "code",
   "execution_count": 2,
   "id": "dc40334a-fb36-4e0c-9b87-62664f9ebb58",
   "metadata": {},
   "outputs": [
    {
     "data": {
      "text/plain": [
       "AnnData object with n_obs × n_vars = 9842 × 15215\n",
       "    obs: 'batch', 'barcode', 'condition', 'cell_label'\n",
       "    uns: 'status'"
      ]
     },
     "execution_count": 2,
     "metadata": {},
     "output_type": "execute_result"
    }
   ],
   "source": [
    "import pertpy as pt\n",
    "adata = pt.dt.haber_2017_regions()\n",
    "adata"
   ]
  },
  {
   "cell_type": "code",
   "execution_count": 30,
   "id": "fe70928d-569d-44f5-8a8c-5125a999ea8e",
   "metadata": {},
   "outputs": [
    {
     "data": {
      "text/plain": [
       "['Enterocyte.Progenitor', 'Stem', 'TA.Early', 'TA', 'Tuft', 'Enterocyte', 'Goblet', 'Endocrine']\n",
       "Categories (8, object): ['Endocrine', 'Enterocyte', 'Enterocyte.Progenitor', 'Goblet', 'Stem', 'TA', 'TA.Early', 'Tuft']"
      ]
     },
     "execution_count": 30,
     "metadata": {},
     "output_type": "execute_result"
    }
   ],
   "source": [
    "adata.obs['cell_label'].unique()"
   ]
  },
  {
   "cell_type": "markdown",
   "id": "1e7240a6-7942-4985-83ab-ab658a1fad93",
   "metadata": {},
   "source": [
    "## Download the CL Model\n",
    "\n",
    "Before we start our analysis, we need to download the `cl.json` from Cell Ontology.\n",
    "\n",
    "```shell\n",
    "# Download cl.ono fro OBO page.\n",
    "!mkdir new_ontology\n",
    "!wget http://purl.obolibrary.org/obo/cl/cl.json -O new_ontology/cl.json\n",
    "```\n",
    "\n",
    "But we have also provided a function named `omicverse.single.download_cl()` to download it automatically. The benefit of this function is that it can choose an appropriate source to download the file even if you encounter a network error.\n",
    "\n",
    "There are some alternative links to download the file manual. :\n",
    "\n",
    "- Google Drive: https://drive.google.com/uc?export=download&id=1niokr5INjWFVjiXHfdCoWioh0ZEYCPkv\n",
    "- Lanzou(蓝奏云): https://www.lanzoup.com/iN6CX2ybh48h"
   ]
  },
  {
   "cell_type": "code",
   "execution_count": 3,
   "id": "6343d9a6-5d28-4721-9590-8cb4d9efad2d",
   "metadata": {},
   "outputs": [
    {
     "name": "stdout",
     "output_type": "stream",
     "text": [
      "Downloading Cell Ontology to: new_ontology/cl.json\n",
      "============================================================\n",
      "\n",
      "[1/3] Trying Official OBO Library...\n",
      "    URL: http://purl.obolibrary.org/obo/cl/cl.json\n",
      "    Description: Direct download from official Cell Ontology\n",
      "    → Downloading...\n"
     ]
    },
    {
     "name": "stderr",
     "output_type": "stream",
     "text": [
      "                                                                                \r"
     ]
    },
    {
     "name": "stdout",
     "output_type": "stream",
     "text": [
      "    → Downloaded: 32.32 MB\n",
      "    ✓ File validation successful\n",
      "    ✓ Successfully downloaded from Official OBO Library\n",
      "    File saved to: new_ontology/cl.json\n",
      "    File size: 32.32 MB\n"
     ]
    },
    {
     "data": {
      "text/plain": [
       "(True, 'new_ontology/cl.json')"
      ]
     },
     "execution_count": 3,
     "metadata": {},
     "output_type": "execute_result"
    }
   ],
   "source": [
    "ov.single.download_cl(output_dir=\"new_ontology\", filename=\"cl.json\")"
   ]
  },
  {
   "cell_type": "markdown",
   "id": "eebb6271-058e-40bc-b72c-bec5adf031cc",
   "metadata": {},
   "source": [
    "## Prepare the CellOntologyMapper\n",
    "\n",
    "Because the CellOntologyMapper rely on the NLP embedding model of SentenceTransformer. So we need to choose a NLP embedding from huggingface. Here are some recommendation. \n",
    "\n",
    "You can found the entire list from [huggingface](https://huggingface.co/models?library=sentence-transformers) or [huggingface mirror](https://hf-mirror.com/models?library=sentence-transformers).\n",
    "\n",
    "- BAAI/bge-base-en-v1.5\n",
    "- BAAI/bge-small-en-v1.5\n",
    "- sentence-transformers/all-MiniLM-L6-v2\n",
    "- ..."
   ]
  },
  {
   "cell_type": "code",
   "execution_count": 15,
   "id": "3c59f535-ed06-46fd-a3ae-629bb6fb6ac9",
   "metadata": {
    "scrolled": true
   },
   "outputs": [
    {
     "name": "stdout",
     "output_type": "stream",
     "text": [
      "🔨 Creating ontology resources from OBO file...\n",
      "📖 Parsing ontology file...\n",
      "🧠 Creating NLP embeddings...\n",
      "🔄 Loading model sentence-transformers/all-MiniLM-L6-v2...\n",
      "🌐 Checking network connectivity...\n",
      "✓ Network connection available\n",
      "🇨🇳 Using HF-Mirror (hf-mirror.com) for faster downloads in China\n",
      "📁 Models will be saved to: ./my_models\n",
      "🪞 Downloading model from HF-Mirror: sentence-transformers/all-MiniLM-L6-v2\n",
      "✓ Model loaded successfully from HF-Mirror!\n",
      "🔄 Encoding 16841 ontology labels...\n"
     ]
    },
    {
     "data": {
      "application/vnd.jupyter.widget-view+json": {
       "model_id": "1f318984cdfc44c79eed8b67e45d19d1",
       "version_major": 2,
       "version_minor": 0
      },
      "text/plain": [
       "Batches:   0%|          | 0/527 [00:00<?, ?it/s]"
      ]
     },
     "metadata": {},
     "output_type": "display_data"
    },
    {
     "name": "stdout",
     "output_type": "stream",
     "text": [
      "💾 Embeddings saved to: new_ontology/ontology_embeddings.pkl\n",
      "✓ Ontology resources creation completed!\n"
     ]
    }
   ],
   "source": [
    "# \n",
    "mapper = ov.single.CellOntologyMapper(\n",
    "    cl_obo_file=\"new_ontology/cl.json\",\n",
    "    model_name=\"sentence-transformers/all-MiniLM-L6-v2\",\n",
    "    local_model_dir=\"./my_models\"\n",
    ")"
   ]
  },
  {
   "cell_type": "markdown",
   "id": "e76939ec-c53a-4b2f-985c-4d3bb805924b",
   "metadata": {},
   "source": [
    "If you have calculated the embedding of cell ontology, you can load it directly."
   ]
  },
  {
   "cell_type": "code",
   "execution_count": 12,
   "id": "9c50317c-fe11-4be8-84e3-2e879a2a9387",
   "metadata": {},
   "outputs": [
    {
     "name": "stdout",
     "output_type": "stream",
     "text": [
      "📥 Loading existing ontology embeddings...\n",
      "📥 Loaded embeddings for 16841 ontology labels\n"
     ]
    }
   ],
   "source": [
    "mapper = ov.single.CellOntologyMapper(\n",
    "    cl_obo_file=\"new_ontology/cl.json\",\n",
    "    embeddings_path='new_ontology/ontology_embeddings.pkl',\n",
    "    local_model_dir=\"./my_models\"\n",
    ")"
   ]
  },
  {
   "cell_type": "markdown",
   "id": "9bcedf69-8a4f-4509-ac3c-a486f8496e76",
   "metadata": {},
   "source": [
    "## Mapping Celltype\n",
    "\n",
    "We can use `map_adata` to calculate simility between the cell name in our datasets and cell name in cell ontology."
   ]
  },
  {
   "cell_type": "code",
   "execution_count": 13,
   "id": "4ec6e903-78a4-48e2-b2ce-b6907b787dc0",
   "metadata": {
    "scrolled": true
   },
   "outputs": [
    {
     "name": "stdout",
     "output_type": "stream",
     "text": [
      "📊 Using 8 unique cell names from column 'cell_label'\n",
      "🔄 Loading model sentence-transformers/all-MiniLM-L6-v2...\n",
      "🌐 Checking network connectivity...\n",
      "✓ Network connection available\n",
      "🇨🇳 Using HF-Mirror (hf-mirror.com) for faster downloads in China\n",
      "📁 Models will be saved to: ./my_models\n",
      "🪞 Downloading model from HF-Mirror: sentence-transformers/all-MiniLM-L6-v2\n",
      "✓ Model loaded successfully from HF-Mirror!\n",
      "🎯 Mapping 8 cell names...\n"
     ]
    },
    {
     "data": {
      "application/vnd.jupyter.widget-view+json": {
       "model_id": "354f06c3fdba41df9132284995703fa1",
       "version_major": 2,
       "version_minor": 0
      },
      "text/plain": [
       "Batches:   0%|          | 0/1 [00:00<?, ?it/s]"
      ]
     },
     "metadata": {},
     "output_type": "display_data"
    },
    {
     "name": "stdout",
     "output_type": "stream",
     "text": [
      "📝 Applying mapping results to AnnData...\n",
      "✓ Mapping completed: 7/8 cell names have high confidence mapping\n"
     ]
    }
   ],
   "source": [
    "mapping_results = mapper.map_adata(\n",
    "    adata, \n",
    "    cell_name_col='cell_label'\n",
    ")"
   ]
  },
  {
   "cell_type": "code",
   "execution_count": 5,
   "id": "74a6af55-502e-413f-b2b0-2a0bb6ee583c",
   "metadata": {},
   "outputs": [
    {
     "name": "stdout",
     "output_type": "stream",
     "text": [
      "\n",
      "============================================================\n",
      "MAPPING STATISTICS SUMMARY\n",
      "============================================================\n",
      "Total mappings:\t\t8\n",
      "High confidence:\t7 (87.50%)\n",
      "Low confidence:\t\t1\n",
      "Average similarity:\t0.603\n",
      "Median similarity:\t0.601\n",
      "\n",
      "TOP 15 MAPPING RESULTS\n",
      "------------------------------------------------------------\n",
      "✓ Enterocyte -> enterocyte (Similarity: 0.776)\n",
      "✓ Enterocyte.Progenitor -> enterocyte differentiation (Similarity: 0.688)\n",
      "✓ Endocrine -> endocrine hormone secretion (Similarity: 0.643)\n",
      "✓ TA -> TAC1 (Similarity: 0.622)\n",
      "✓ Goblet -> large intestine goblet cell (Similarity: 0.581)\n",
      "✓ Tuft -> tuft cell of small intestine (Similarity: 0.534)\n",
      "✓ Stem -> stem cell division (Similarity: 0.519)\n",
      "? TA.Early -> TAC1 (Similarity: 0.460)\n"
     ]
    }
   ],
   "source": [
    "mapper.print_mapping_summary(mapping_results, top_n=15)"
   ]
  },
  {
   "cell_type": "markdown",
   "id": "57aa85f5-0b04-44ad-b001-a145d5401074",
   "metadata": {},
   "source": [
    "## Mapping Cell Types with LLM Assistance\n",
    "\n",
    "In addition, we often use abbreviations to name our cell types, such as `TA` and `TA.Early` in our data sets. Calculating similarity to the Cell Ontology directly can be confusing, so we use an LLM to expand these abbreviated cell names.\n",
    "\n",
    "To do so, specify the following arguments:\n",
    "\n",
    "* **api\\_type**: `openai`, `anthropic`, `ollama`, or any other API that follows the OpenAI format\n",
    "* **tissue\\_context**: the tissue source of the single-cell data set\n",
    "* **species**: the species from which the data set was derived\n",
    "* **study\\_context**: any additional information that may help the model expand the cell-type name\n",
    "* **api_key**: the apikey of your model. \n",
    "\n"
   ]
  },
  {
   "cell_type": "code",
   "execution_count": 16,
   "id": "c5d5e799-beaf-4789-bbf2-1f05c383ef1e",
   "metadata": {},
   "outputs": [
    {
     "name": "stdout",
     "output_type": "stream",
     "text": [
      "✓ Loaded 10 cached abbreviation expansions\n",
      "✓ LLM expansion functionality setup complete (Type: openai, Model: gpt-4o-2024-11-20)\n",
      "🧬 Tissue context: gut\n",
      "🔬 Study context: Epithelial cells from the small intestine and organoids of mice. Some of the cells were also subject to Salmonella or Heligmosomoides polygyrus infection\n",
      "🐭 Species: mouse\n"
     ]
    },
    {
     "data": {
      "text/plain": [
       "True"
      ]
     },
     "execution_count": 16,
     "metadata": {},
     "output_type": "execute_result"
    }
   ],
   "source": [
    "mapper.setup_llm_expansion(\n",
    "    api_type=\"openai\", model='gpt-4o-2024-11-20',\n",
    "    tissue_context=\"gut\",    # 组织上下文\n",
    "    species=\"mouse\",                   # 物种信息\n",
    "    study_context=\"Epithelial cells from the small intestine and organoids of mice. Some of the cells were also subject to Salmonella or Heligmosomoides polygyrus infection\",\n",
    "    api_key=\"sk-*\"\n",
    ")\n"
   ]
  },
  {
   "cell_type": "markdown",
   "id": "f3b1a296-8492-4e4c-854e-29c49280f230",
   "metadata": {},
   "source": [
    "You can choose any other model api from the alternative provider, such as `ohmygpt`. But the format of openai should observe the rule of openai."
   ]
  },
  {
   "cell_type": "code",
   "execution_count": 6,
   "id": "6408a31b-0119-4628-985b-992b10ddf2f1",
   "metadata": {},
   "outputs": [
    {
     "name": "stdout",
     "output_type": "stream",
     "text": [
      "✓ Loaded 6 cached abbreviation expansions\n",
      "✓ LLM expansion functionality setup complete (Type: custom_openai, Model: gpt-4.1-2025-04-14)\n",
      "🌐 Custom Base URL: https://api.ohmygpt.com/v1\n",
      "🐭 Species: human\n"
     ]
    },
    {
     "data": {
      "text/plain": [
       "True"
      ]
     },
     "execution_count": 6,
     "metadata": {},
     "output_type": "execute_result"
    }
   ],
   "source": [
    "mapper.setup_llm_expansion(\n",
    "    api_type=\"custom_openai\",\n",
    "    api_key=\"sk-*\",\n",
    "    model=\"gpt-4.1-2025-04-14\",\n",
    "    base_url=\"https://api.ohmygpt.com/v1\"\n",
    ")"
   ]
  },
  {
   "cell_type": "code",
   "execution_count": 17,
   "id": "dc35bd29-f4d9-4b92-91d8-8d79b9823722",
   "metadata": {},
   "outputs": [
    {
     "name": "stdout",
     "output_type": "stream",
     "text": [
      "📊 Using 8 unique cell names from column 'cell_label'\n",
      "📝 Step 1: Expanding abbreviations\n",
      "🔍 Analyzing cell names...\n",
      "🧬 Using tissue context: gut\n",
      "🔬 Using study context: Epithelial cells from the small intestine and organoids of mice. Some of the cells were also subject to Salmonella or Heligmosomoides polygyrus infection\n",
      "🐭 Species: mouse\n",
      "  🔤 Identified potential abbreviation: Stem\n",
      "  🔤 Identified potential abbreviation: TA.Early\n",
      "  🔤 Identified potential abbreviation: TA\n",
      "  🔤 Identified potential abbreviation: Tuft\n",
      "  🔤 Identified potential abbreviation: Goblet\n",
      "\n",
      "🤖 Expanding 5 abbreviations using LLM...\n",
      "  📝 [1/5] Expanding: Stem\n",
      "    ✓ → Intestinal stem cell (Confidence: high)\n",
      "    💡 Alternatives: Stem cell, Crypt stem cell\n",
      "  📝 [2/5] Expanding: TA.Early\n",
      "    ✓ → Transit Amplifying Early cell (Confidence: high)\n",
      "    💡 Alternatives: Transit Amplifying progenitor cell (early stage), Transient Amplifying Early cell\n",
      "  📝 [3/5] Expanding: TA\n",
      "    ✓ → Transit amplifying cell (Confidence: high)\n",
      "    💡 Alternatives: Tumor-associated cell, T cell activation-related cell\n",
      "  📝 [4/5] Expanding: Tuft\n",
      "    ✓ → Tuft cell (Confidence: high)\n",
      "    💡 Alternatives: Brush cell\n",
      "  📝 [5/5] Expanding: Goblet\n",
      "    ✓ → Goblet cell (Confidence: high)\n",
      "\n",
      "🎯 Step 2: Performing ontology mapping\n",
      "🎯 Mapping 8 cell names...\n"
     ]
    },
    {
     "data": {
      "application/vnd.jupyter.widget-view+json": {
       "model_id": "c8b0e62c5b824bc186152883871f1dca",
       "version_major": 2,
       "version_minor": 0
      },
      "text/plain": [
       "Batches:   0%|          | 0/1 [00:00<?, ?it/s]"
      ]
     },
     "metadata": {},
     "output_type": "display_data"
    },
    {
     "name": "stdout",
     "output_type": "stream",
     "text": [
      "\n",
      "📝 Applying mapping results to AnnData...\n",
      "✓ Mapping completed:\n",
      "  📊 8/8 cell names have high confidence mapping\n",
      "  🔄 5/8 cell names underwent abbreviation expansion\n",
      "\n",
      "============================================================\n",
      "MAPPING STATISTICS SUMMARY\n",
      "============================================================\n",
      "Total mappings:\t\t8\n",
      "High confidence:\t8 (100.00%)\n",
      "Low confidence:\t\t0\n",
      "Average similarity:\t0.724\n",
      "Median similarity:\t0.735\n",
      "\n",
      "TOP 15 MAPPING RESULTS\n",
      "------------------------------------------------------------\n",
      "✓ Tuft -> tuft cell (Similarity: 0.787)\n",
      "✓ Enterocyte -> enterocyte (Similarity: 0.776)\n",
      "✓ TA -> transit amplifying cell of appendix (Similarity: 0.741)\n",
      "✓ Stem -> intestinal crypt stem cell (Similarity: 0.735)\n",
      "✓ Goblet -> small intestine goblet cell (Similarity: 0.734)\n",
      "✓ Enterocyte.Progenitor -> enterocyte differentiation (Similarity: 0.688)\n",
      "✓ TA.Early -> transit amplifying cell (Similarity: 0.688)\n",
      "✓ Endocrine -> endocrine hormone secretion (Similarity: 0.643)\n"
     ]
    }
   ],
   "source": [
    "mapping_results = mapper.map_adata_with_expansion(\n",
    "    adata=adata,\n",
    "    cell_name_col='cell_label',\n",
    "    threshold=0.5,\n",
    "    expand_abbreviations=True  # 启用缩写扩展\n",
    ")\n",
    "mapper.print_mapping_summary(mapping_results, top_n=15)"
   ]
  },
  {
   "cell_type": "markdown",
   "id": "837ac5b2-5a73-41ad-939e-e1e42d7dd5f2",
   "metadata": {},
   "source": [
    "We can now see that `TA` and `TA.Early` map successfully to `transit amplifying cell`."
   ]
  },
  {
   "cell_type": "code",
   "execution_count": 18,
   "id": "b5d09fce-4750-46a6-9b17-59c90bdc4807",
   "metadata": {},
   "outputs": [
    {
     "data": {
      "text/html": [
       "<div>\n",
       "<style scoped>\n",
       "    .dataframe tbody tr th:only-of-type {\n",
       "        vertical-align: middle;\n",
       "    }\n",
       "\n",
       "    .dataframe tbody tr th {\n",
       "        vertical-align: top;\n",
       "    }\n",
       "\n",
       "    .dataframe thead th {\n",
       "        text-align: right;\n",
       "    }\n",
       "</style>\n",
       "<table border=\"1\" class=\"dataframe\">\n",
       "  <thead>\n",
       "    <tr style=\"text-align: right;\">\n",
       "      <th></th>\n",
       "      <th>cell_label</th>\n",
       "      <th>cell_ontology</th>\n",
       "      <th>cell_ontology_similarity</th>\n",
       "      <th>cell_ontology_ontology_id</th>\n",
       "      <th>cell_ontology_ontology_id</th>\n",
       "      <th>cell_ontology_cl_id</th>\n",
       "    </tr>\n",
       "    <tr>\n",
       "      <th>index</th>\n",
       "      <th></th>\n",
       "      <th></th>\n",
       "      <th></th>\n",
       "      <th></th>\n",
       "      <th></th>\n",
       "      <th></th>\n",
       "    </tr>\n",
       "  </thead>\n",
       "  <tbody>\n",
       "    <tr>\n",
       "      <th>B1_AAACATACCACAAC_Control_Enterocyte.Progenitor</th>\n",
       "      <td>Enterocyte.Progenitor</td>\n",
       "      <td>enterocyte differentiation</td>\n",
       "      <td>0.688446</td>\n",
       "      <td>http://purl.obolibrary.org/obo/GO_1903703</td>\n",
       "      <td>http://purl.obolibrary.org/obo/GO_1903703</td>\n",
       "      <td>None</td>\n",
       "    </tr>\n",
       "    <tr>\n",
       "      <th>B1_AAACGCACGAGGAC_Control_Stem</th>\n",
       "      <td>Stem</td>\n",
       "      <td>intestinal crypt stem cell</td>\n",
       "      <td>0.735365</td>\n",
       "      <td>http://purl.obolibrary.org/obo/CL_0002250</td>\n",
       "      <td>http://purl.obolibrary.org/obo/CL_0002250</td>\n",
       "      <td>CL:0002250</td>\n",
       "    </tr>\n",
       "    <tr>\n",
       "      <th>B1_AAACGCACTAGCCA_Control_Stem</th>\n",
       "      <td>Stem</td>\n",
       "      <td>intestinal crypt stem cell</td>\n",
       "      <td>0.735365</td>\n",
       "      <td>http://purl.obolibrary.org/obo/CL_0002250</td>\n",
       "      <td>http://purl.obolibrary.org/obo/CL_0002250</td>\n",
       "      <td>CL:0002250</td>\n",
       "    </tr>\n",
       "    <tr>\n",
       "      <th>B1_AAACGCACTGTCCC_Control_Stem</th>\n",
       "      <td>Stem</td>\n",
       "      <td>intestinal crypt stem cell</td>\n",
       "      <td>0.735365</td>\n",
       "      <td>http://purl.obolibrary.org/obo/CL_0002250</td>\n",
       "      <td>http://purl.obolibrary.org/obo/CL_0002250</td>\n",
       "      <td>CL:0002250</td>\n",
       "    </tr>\n",
       "    <tr>\n",
       "      <th>B1_AAACTTGACCACCT_Control_Enterocyte.Progenitor</th>\n",
       "      <td>Enterocyte.Progenitor</td>\n",
       "      <td>enterocyte differentiation</td>\n",
       "      <td>0.688446</td>\n",
       "      <td>http://purl.obolibrary.org/obo/GO_1903703</td>\n",
       "      <td>http://purl.obolibrary.org/obo/GO_1903703</td>\n",
       "      <td>None</td>\n",
       "    </tr>\n",
       "  </tbody>\n",
       "</table>\n",
       "</div>"
      ],
      "text/plain": [
       "                                                            cell_label  \\\n",
       "index                                                                    \n",
       "B1_AAACATACCACAAC_Control_Enterocyte.Progenitor  Enterocyte.Progenitor   \n",
       "B1_AAACGCACGAGGAC_Control_Stem                                    Stem   \n",
       "B1_AAACGCACTAGCCA_Control_Stem                                    Stem   \n",
       "B1_AAACGCACTGTCCC_Control_Stem                                    Stem   \n",
       "B1_AAACTTGACCACCT_Control_Enterocyte.Progenitor  Enterocyte.Progenitor   \n",
       "\n",
       "                                                              cell_ontology  \\\n",
       "index                                                                         \n",
       "B1_AAACATACCACAAC_Control_Enterocyte.Progenitor  enterocyte differentiation   \n",
       "B1_AAACGCACGAGGAC_Control_Stem                   intestinal crypt stem cell   \n",
       "B1_AAACGCACTAGCCA_Control_Stem                   intestinal crypt stem cell   \n",
       "B1_AAACGCACTGTCCC_Control_Stem                   intestinal crypt stem cell   \n",
       "B1_AAACTTGACCACCT_Control_Enterocyte.Progenitor  enterocyte differentiation   \n",
       "\n",
       "                                                cell_ontology_similarity  \\\n",
       "index                                                                      \n",
       "B1_AAACATACCACAAC_Control_Enterocyte.Progenitor                 0.688446   \n",
       "B1_AAACGCACGAGGAC_Control_Stem                                  0.735365   \n",
       "B1_AAACGCACTAGCCA_Control_Stem                                  0.735365   \n",
       "B1_AAACGCACTGTCCC_Control_Stem                                  0.735365   \n",
       "B1_AAACTTGACCACCT_Control_Enterocyte.Progenitor                 0.688446   \n",
       "\n",
       "                                                                 cell_ontology_ontology_id  \\\n",
       "index                                                                                        \n",
       "B1_AAACATACCACAAC_Control_Enterocyte.Progenitor  http://purl.obolibrary.org/obo/GO_1903703   \n",
       "B1_AAACGCACGAGGAC_Control_Stem                   http://purl.obolibrary.org/obo/CL_0002250   \n",
       "B1_AAACGCACTAGCCA_Control_Stem                   http://purl.obolibrary.org/obo/CL_0002250   \n",
       "B1_AAACGCACTGTCCC_Control_Stem                   http://purl.obolibrary.org/obo/CL_0002250   \n",
       "B1_AAACTTGACCACCT_Control_Enterocyte.Progenitor  http://purl.obolibrary.org/obo/GO_1903703   \n",
       "\n",
       "                                                                 cell_ontology_ontology_id  \\\n",
       "index                                                                                        \n",
       "B1_AAACATACCACAAC_Control_Enterocyte.Progenitor  http://purl.obolibrary.org/obo/GO_1903703   \n",
       "B1_AAACGCACGAGGAC_Control_Stem                   http://purl.obolibrary.org/obo/CL_0002250   \n",
       "B1_AAACGCACTAGCCA_Control_Stem                   http://purl.obolibrary.org/obo/CL_0002250   \n",
       "B1_AAACGCACTGTCCC_Control_Stem                   http://purl.obolibrary.org/obo/CL_0002250   \n",
       "B1_AAACTTGACCACCT_Control_Enterocyte.Progenitor  http://purl.obolibrary.org/obo/GO_1903703   \n",
       "\n",
       "                                                cell_ontology_cl_id  \n",
       "index                                                                \n",
       "B1_AAACATACCACAAC_Control_Enterocyte.Progenitor                None  \n",
       "B1_AAACGCACGAGGAC_Control_Stem                           CL:0002250  \n",
       "B1_AAACGCACTAGCCA_Control_Stem                           CL:0002250  \n",
       "B1_AAACGCACTGTCCC_Control_Stem                           CL:0002250  \n",
       "B1_AAACTTGACCACCT_Control_Enterocyte.Progenitor                None  "
      ]
     },
     "execution_count": 18,
     "metadata": {},
     "output_type": "execute_result"
    }
   ],
   "source": [
    "adata.obs[['cell_label','cell_ontology','cell_ontology_similarity',\n",
    "          'cell_ontology_ontology_id','cell_ontology_ontology_id','cell_ontology_cl_id']].head()"
   ]
  },
  {
   "cell_type": "markdown",
   "id": "b43632f6-d6df-435b-a8b0-110021efa2eb",
   "metadata": {},
   "source": [
    "## Mapping Check\n",
    "\n",
    "We can also query the matching result manually."
   ]
  },
  {
   "cell_type": "code",
   "execution_count": 19,
   "id": "005a3c65-6e94-4189-8672-b9d9709169f6",
   "metadata": {},
   "outputs": [
    {
     "name": "stdout",
     "output_type": "stream",
     "text": [
      "\n",
      "🎯 Ontology cell types most similar to 'T helper cell':\n",
      " 1. helper T cell                            (Similarity: 0.780)\n",
      " 2. T-helper 1 cell activation               (Similarity: 0.738)\n",
      " 3. T-helper 2 cell activation               (Similarity: 0.709)\n",
      " 4. T-helper 9 cell                          (Similarity: 0.707)\n",
      " 5. T-helper 2 cell                          (Similarity: 0.690)\n",
      " 6. T-helper 1 cell                          (Similarity: 0.687)\n",
      " 7. T cell domain                            (Similarity: 0.678)\n",
      " 8. regulation of T-helper 1 cell activation (Similarity: 0.675)\n",
      " 9. CD4-positive helper T cell               (Similarity: 0.664)\n",
      "10. T-helper 1 cell cytokine production      (Similarity: 0.660)\n",
      "\n",
      "🎯 Ontology cell types most similar to 'Macrophage':\n",
      " 1. cycling macrophage                       (Similarity: 0.786)\n",
      " 2. tissue-resident macrophage               (Similarity: 0.735)\n",
      " 3. macrophage differentiation               (Similarity: 0.729)\n",
      " 4. macrophage                               (Similarity: 0.719)\n",
      " 5. epithelioid macrophage                   (Similarity: 0.718)\n",
      " 6. macrophage migration                     (Similarity: 0.692)\n",
      " 7. kidney interstitial alternatively activated macrophage (Similarity: 0.686)\n",
      " 8. central nervous system macrophage        (Similarity: 0.685)\n"
     ]
    }
   ],
   "source": [
    "res=mapper.find_similar_cells(\"T helper cell\", top_k=10)\n",
    "res=mapper.find_similar_cells(\"Macrophage\", top_k=8)\n"
   ]
  },
  {
   "cell_type": "code",
   "execution_count": 20,
   "id": "9ea2de2d-10b4-472f-ab86-3713182dad99",
   "metadata": {},
   "outputs": [
    {
     "name": "stdout",
     "output_type": "stream",
     "text": [
      "\n",
      "ℹ️  === regulatory T cell ===\n",
      "🆔 Ontology ID: http://purl.obolibrary.org/obo/CL_0000815\n",
      "📝 Description: regulatory T cell: A T cell which regulates overall immune responses as well as the responses of other T cell subsets through direct cell-cell contact and cytokine release. This cell type may express FoxP3 and CD25 and secretes IL-10 and TGF-beta.\n"
     ]
    },
    {
     "data": {
      "text/plain": [
       "{'name': 'regulatory T cell',\n",
       " 'description': 'regulatory T cell: A T cell which regulates overall immune responses as well as the responses of other T cell subsets through direct cell-cell contact and cytokine release. This cell type may express FoxP3 and CD25 and secretes IL-10 and TGF-beta.',\n",
       " 'ontology_id': 'http://purl.obolibrary.org/obo/CL_0000815'}"
      ]
     },
     "execution_count": 20,
     "metadata": {},
     "output_type": "execute_result"
    }
   ],
   "source": [
    "mapper.get_cell_info(\"regulatory T cell\")"
   ]
  },
  {
   "cell_type": "code",
   "execution_count": 21,
   "id": "b187b750-0ef2-4692-b418-c1488fcee4df",
   "metadata": {},
   "outputs": [
    {
     "name": "stdout",
     "output_type": "stream",
     "text": [
      "✗ Cell type not found: regulatory T cells\n",
      "🔍 Found 0 cell types containing 'regulatory t cells':\n"
     ]
    }
   ],
   "source": [
    "mapper.get_cell_info(\"regulatory T cells\")"
   ]
  },
  {
   "cell_type": "code",
   "execution_count": 24,
   "id": "7c84c849-3a40-4177-bffc-a77533f6d7eb",
   "metadata": {},
   "outputs": [
    {
     "name": "stdout",
     "output_type": "stream",
     "text": [
      "📂 === Browse Ontology Cell Types by Category ===\n",
      "\n",
      "🔍 Found 0 cell types containing 'immune cell':\n",
      "--------------------------------------------------\n",
      "🔍 Found 395 cell types containing 'epithelial':\n",
      "  1. NS forest marker set of airway submucosal gland collecting duct epithelial cell (Human Lung).\n",
      "  2. epithelial fate stem cell\n",
      "  3. epithelial cell\n",
      "  4. ciliated epithelial cell\n",
      "  5. duct epithelial cell\n",
      "... 390 more results\n",
      "\n",
      "🏷️  【epithelial related】 (Showing top 5):\n",
      "  1. NS forest marker set of airway submucosal gland collecting duct epithelial cell (Human Lung).\n",
      "  2. epithelial fate stem cell\n",
      "  3. epithelial cell\n",
      "  4. ciliated epithelial cell\n",
      "  5. duct epithelial cell\n",
      "--------------------------------------------------\n"
     ]
    }
   ],
   "source": [
    "my_categories = [\"immune cell\", \"epithelial\"]\n",
    "mapper.browse_ontology_by_category(categories=my_categories, max_per_category=5)"
   ]
  },
  {
   "cell_type": "code",
   "execution_count": 29,
   "id": "3ab20337-f1f3-4279-9159-7df989281942",
   "metadata": {},
   "outputs": [
    {
     "name": "stdout",
     "output_type": "stream",
     "text": [
      "📊 Total 16841 cell types in ontology\n",
      "\n",
      "📋 First 10 cell types:\n",
      "  1. TAC1\n",
      "  2. STAB1\n",
      "  3. TLL1\n",
      "  4. MSR1\n",
      "  5. TNC\n",
      "  6. ROS1\n",
      "  7. TNIP3\n",
      "  8. HOMER3\n",
      "  9. FCGR2B\n",
      " 10. BPIFB2\n",
      "... 16831 more cell types\n",
      "💡 Use return_all=True to get complete list\n"
     ]
    }
   ],
   "source": [
    "# 查看前50个细胞类型\n",
    "res=mapper.list_ontology_cells(max_display=10)\n"
   ]
  },
  {
   "cell_type": "code",
   "execution_count": 25,
   "id": "add04b78-78fb-47e4-b3e5-df7e1a2fe06b",
   "metadata": {},
   "outputs": [
    {
     "name": "stdout",
     "output_type": "stream",
     "text": [
      "📊 === Ontology Statistics ===\n",
      "📝 Total cell types: 16841\n",
      "📏 Average name length: 31.7 characters\n",
      "📏 Shortest name length: 3 characters\n",
      "📏 Longest name length: 144 characters\n",
      "\n",
      "🔤 Most common words:\n",
      "  of: 5473 times\n",
      "  cell: 3857 times\n",
      "  regulation: 3168 times\n",
      "  negative: 1009 times\n",
      "  positive: 1003 times\n",
      "  process: 980 times\n",
      "  development: 875 times\n",
      "  differentiation: 727 times\n",
      "  muscle: 639 times\n",
      "  in: 571 times\n"
     ]
    }
   ],
   "source": [
    "# 了解本体论的整体情况\n",
    "stats = mapper.get_ontology_statistics()"
   ]
  }
 ],
 "metadata": {
  "kernelspec": {
   "display_name": "omicverse",
   "language": "python",
   "name": "omicverse"
  },
  "language_info": {
   "codemirror_mode": {
    "name": "ipython",
    "version": 3
   },
   "file_extension": ".py",
   "mimetype": "text/x-python",
   "name": "python",
   "nbconvert_exporter": "python",
   "pygments_lexer": "ipython3",
   "version": "3.10.17"
  },
  "widgets": {
   "application/vnd.jupyter.widget-state+json": {
    "state": {},
    "version_major": 2,
    "version_minor": 0
   }
  }
 },
 "nbformat": 4,
 "nbformat_minor": 5
}
